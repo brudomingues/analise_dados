{
  "nbformat": 4,
  "nbformat_minor": 0,
  "metadata": {
    "colab": {
      "provenance": [],
      "authorship_tag": "ABX9TyP2DjD6DbhBBVaGUVyeZLpq",
      "include_colab_link": true
    },
    "kernelspec": {
      "name": "python3",
      "display_name": "Python 3"
    },
    "language_info": {
      "name": "python"
    }
  },
  "cells": [
    {
      "cell_type": "markdown",
      "metadata": {
        "id": "view-in-github",
        "colab_type": "text"
      },
      "source": [
        "<a href=\"https://colab.research.google.com/github/brudomingues/analise_dados/blob/main/notebooks/Analise_dados_04_frequ%C3%AAncia_py.ipynb\" target=\"_parent\"><img src=\"https://colab.research.google.com/assets/colab-badge.svg\" alt=\"Open In Colab\"/></a>"
      ]
    },
    {
      "cell_type": "markdown",
      "source": [
        "# Qual é a frequência de autores na revista?"
      ],
      "metadata": {
        "id": "9zXby0yZDtjE"
      }
    },
    {
      "cell_type": "code",
      "execution_count": 1,
      "metadata": {
        "id": "N1YvzrhSDlW6"
      },
      "outputs": [],
      "source": [
        "import numpy as np\n",
        "import pandas as pd"
      ]
    },
    {
      "cell_type": "code",
      "source": [
        "csv = \"https://raw.githubusercontent.com/brudomingues/analise_dados/main/dados/contexto_inter.csv\"\n",
        "contexto=pd.read_csv(csv)\n",
        "contexto"
      ],
      "metadata": {
        "id": "lz0CPgpYDzjQ"
      },
      "execution_count": null,
      "outputs": []
    },
    {
      "cell_type": "code",
      "source": [
        "autores_por_ano= contexto[\"AU\"].value_counts()\n",
        "autores_por_ano"
      ],
      "metadata": {
        "id": "u-B3VKCqD0-3"
      },
      "execution_count": null,
      "outputs": []
    },
    {
      "cell_type": "code",
      "source": [
        "px.bar(autores_por_ano)"
      ],
      "metadata": {
        "id": "CeiFeA_YD49O"
      },
      "execution_count": null,
      "outputs": []
    },
    {
      "cell_type": "code",
      "source": [
        "barras= autores_por_ano.plot (kind=\"bar\", legend=True, color= [\"gray\"])\n",
        "barras"
      ],
      "metadata": {
        "id": "xCC4znJcD7JK"
      },
      "execution_count": null,
      "outputs": []
    },
    {
      "cell_type": "code",
      "source": [
        "linhas = autores_por_ano.plot (kind = \"line\", legend = True, color = [\"purple\"])\n",
        "barras"
      ],
      "metadata": {
        "id": "7V0dzdhZD9K3"
      },
      "execution_count": null,
      "outputs": []
    },
    {
      "cell_type": "code",
      "source": [
        "frequencia= contexto[\"PY\"].value_counts()\n",
        "frequencia"
      ],
      "metadata": {
        "id": "3raGyMPLD_Mh"
      },
      "execution_count": null,
      "outputs": []
    },
    {
      "cell_type": "markdown",
      "source": [
        "# Qual é frequência de idiomas dos artigos por ano?"
      ],
      "metadata": {
        "id": "6rYuaurdEAeg"
      }
    },
    {
      "cell_type": "code",
      "source": [
        "idiomas= contexto[\"LA\"].value_counts()\n",
        "idiomas"
      ],
      "metadata": {
        "id": "2nSYIen8ECcT"
      },
      "execution_count": null,
      "outputs": []
    },
    {
      "cell_type": "code",
      "source": [
        "barras= idiomas.plot (kind=\"bar\", legend=True, color= [\"lightblue\"])\n",
        "barras"
      ],
      "metadata": {
        "id": "K-k2LAf1EFp8"
      },
      "execution_count": null,
      "outputs": []
    },
    {
      "cell_type": "code",
      "source": [
        "barras= idiomas.plot (kind=\"barh\", legend=True, color=[\"lightgreen\"])\n",
        "barras"
      ],
      "metadata": {
        "id": "oHIU-Uu7EHuC"
      },
      "execution_count": null,
      "outputs": []
    },
    {
      "cell_type": "markdown",
      "source": [
        "# Qual é a frequência de instituições por ano?"
      ],
      "metadata": {
        "id": "QFrb-Yh2EJjU"
      }
    },
    {
      "cell_type": "code",
      "source": [
        "instituições= contexto[\"OG\"].value_counts()\n",
        "instituições"
      ],
      "metadata": {
        "id": "SW_lyjmDEKwy"
      },
      "execution_count": null,
      "outputs": []
    },
    {
      "cell_type": "code",
      "source": [
        "barras= instituições.plot (kind=\"bar\", legend=True, color= [\"orange\"])\n",
        "barras"
      ],
      "metadata": {
        "id": "oSG7zLlyEMVe"
      },
      "execution_count": null,
      "outputs": []
    },
    {
      "cell_type": "markdown",
      "source": [
        "# Qual é frequência de uma palavra-chave por ano?"
      ],
      "metadata": {
        "id": "OjIBDostEPW4"
      }
    },
    {
      "cell_type": "code",
      "source": [
        "busca= \"DE\" in contexto\n",
        "busca"
      ],
      "metadata": {
        "id": "34gezIhsEQVt"
      },
      "execution_count": null,
      "outputs": []
    },
    {
      "cell_type": "code",
      "source": [
        "busca= \"DE\" in \"TI\"\n",
        "busca"
      ],
      "metadata": {
        "id": "3P_dRBg1EULO"
      },
      "execution_count": null,
      "outputs": []
    },
    {
      "cell_type": "code",
      "source": [
        "busca= \"DE\" in \"AB\"\n",
        "busca"
      ],
      "metadata": {
        "id": "myIefraKEWLb"
      },
      "execution_count": null,
      "outputs": []
    },
    {
      "cell_type": "code",
      "source": [
        "contexto[\"TI\"].str.contains(\"Brasil\")"
      ],
      "metadata": {
        "id": "9bwq4Bn9EWx0"
      },
      "execution_count": null,
      "outputs": []
    },
    {
      "cell_type": "code",
      "source": [
        "busca = contexto[contexto[\"TI\"].str.contains(\"OTAN\",case=True)]\n",
        "busca\n",
        "#numero_colunas = busca.shape\n",
        "#numero_colunas"
      ],
      "metadata": {
        "id": "FTAWVWwxEZBZ"
      },
      "execution_count": null,
      "outputs": []
    },
    {
      "cell_type": "code",
      "source": [
        "agrupar_por_ano = busca[\"TI\"].groupby(busca[\"PY\"])\n",
        "busca_por_ano = agrupar_por_ano.count()\n",
        "busca_por_ano"
      ],
      "metadata": {
        "id": "ZtnKqRn1Eax_"
      },
      "execution_count": null,
      "outputs": []
    },
    {
      "cell_type": "code",
      "source": [
        "quantidade_termos=busca_por_ano.values.tolist()\n",
        "quantidade_termos"
      ],
      "metadata": {
        "id": "7abkiQEREcp-"
      },
      "execution_count": null,
      "outputs": []
    },
    {
      "cell_type": "code",
      "source": [
        "anos=busca_por_ano.index\n",
        "anos"
      ],
      "metadata": {
        "id": "KlBBqQWfEeSI"
      },
      "execution_count": null,
      "outputs": []
    },
    {
      "cell_type": "code",
      "source": [
        "busca_por_ano.plot(kind=\"bar\",x=anos,y=quantidade_termos)"
      ],
      "metadata": {
        "id": "12U3RxqfEfxr"
      },
      "execution_count": null,
      "outputs": []
    },
    {
      "cell_type": "code",
      "source": [
        "contexto.query(\"PY == 2010\")"
      ],
      "metadata": {
        "id": "YH3iBDP1EhbI"
      },
      "execution_count": null,
      "outputs": []
    },
    {
      "cell_type": "code",
      "source": [
        "contexto.query(\"TI.str.contains('Brasil')\", engine = \"python\").shape"
      ],
      "metadata": {
        "id": "ZGYIFzMyEl0Q"
      },
      "execution_count": null,
      "outputs": []
    }
  ]
}